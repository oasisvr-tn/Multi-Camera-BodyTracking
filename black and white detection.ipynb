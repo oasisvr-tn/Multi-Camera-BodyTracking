{
 "cells": [
  {
   "cell_type": "code",
   "execution_count": 1,
   "id": "c32a429e",
   "metadata": {},
   "outputs": [],
   "source": [
    "import cv2\n",
    "import numpy as np"
   ]
  },
  {
   "cell_type": "code",
   "execution_count": 2,
   "id": "1cdb818c",
   "metadata": {},
   "outputs": [],
   "source": [
    "cap = cv2.VideoCapture(0)\n",
    "img_counter = 0"
   ]
  },
  {
   "cell_type": "code",
   "execution_count": null,
   "id": "61e4e2b5",
   "metadata": {},
   "outputs": [],
   "source": [
    "while True:\n",
    "    ret, frame = cap.read()\n",
    "    hsv_frame = cv2.cvtColor(frame, cv2.COLOR_BGR2HSV)\n",
    "    sensitivity = 100\n",
    "    lower_hue = np.array([0,0,0])\n",
    "    upper_hue = np.array([50,50,100])\n",
    "    white_mask = cv2.inRange(hsv_frame, lower_hue, upper_hue)\n",
    "    white = cv2.bitwise_and(frame, frame, mask=white_mask)\n",
    "    cv2.imshow(\"Frame\", frame)\n",
    "    cv2.imshow(\"White\", white)\n",
    "    key = cv2.waitKey(1)\n",
    "    if key == 27:\n",
    "        break\n",
    "    elif key == 32:\n",
    "        img_name = \"opencv_white_{}.png\".format(img_counter)\n",
    "        cv2.imwrite(img_name, white)\n",
    "        print(\"{} written!\".format(img_name))\n",
    "        img_name1 = \"opencv_frame_{}.png\".format(img_counter)\n",
    "        cv2.imwrite(img_name1, frame)\n",
    "        print(\"{} written!\".format(img_name1))\n",
    "        img_counter += 1"
   ]
  },
  {
   "cell_type": "code",
   "execution_count": null,
   "id": "8ae11c1a",
   "metadata": {},
   "outputs": [],
   "source": [
    "cap.release()\n",
    "cv2.destroyAllWindows()"
   ]
  },
  {
   "cell_type": "code",
   "execution_count": 3,
   "id": "297257ee",
   "metadata": {},
   "outputs": [
    {
     "data": {
      "text/plain": [
       "True"
      ]
     },
     "execution_count": 3,
     "metadata": {},
     "output_type": "execute_result"
    }
   ],
   "source": [
    "import os\n",
    "import cv2\n",
    "import numpy as np\n",
    "image_path=r\"C:\\Users\\user\\STAGE\"\n",
    "images=os.listdir(image_path)\n",
    "img_name=image_path+'\\opencv_white_0.png'\n",
    "originalImage = cv2.imread(img_name)\n",
    "(thresh, blackAndWhiteImage) = cv2.threshold(originalImage, 0, 255, cv2.THRESH_BINARY)\n",
    "cv2.imwrite('img_binary.png',blackAndWhiteImage)"
   ]
  },
  {
   "cell_type": "code",
   "execution_count": null,
   "id": "06ffa65c",
   "metadata": {},
   "outputs": [],
   "source": []
  }
 ],
 "metadata": {
  "kernelspec": {
   "display_name": "Python 3 (ipykernel)",
   "language": "python",
   "name": "python3"
  },
  "language_info": {
   "codemirror_mode": {
    "name": "ipython",
    "version": 3
   },
   "file_extension": ".py",
   "mimetype": "text/x-python",
   "name": "python",
   "nbconvert_exporter": "python",
   "pygments_lexer": "ipython3",
   "version": "3.7.9"
  }
 },
 "nbformat": 4,
 "nbformat_minor": 5
}
